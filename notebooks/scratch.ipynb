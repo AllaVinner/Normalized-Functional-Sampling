{
 "cells": [
  {
   "cell_type": "code",
   "execution_count": 1,
   "metadata": {},
   "outputs": [],
   "source": [
    "import numpy as np\n",
    "import sampling_normalization as sampnorm\n",
    "from sampling_normalization import geometric_objects as go\n",
    "import plotly.express as px"
   ]
  },
  {
   "cell_type": "code",
   "execution_count": 2,
   "metadata": {},
   "outputs": [],
   "source": [
    " a = np.random.normal(size = (4,3))"
   ]
  },
  {
   "cell_type": "code",
   "execution_count": 3,
   "metadata": {},
   "outputs": [
    {
     "name": "stdout",
     "output_type": "stream",
     "text": [
      "Distortions:  [1.00373388 1.00837034 0.98844341 0.99661006]\n"
     ]
    },
    {
     "data": {
      "text/plain": [
       "array([[ 8.64114269e-03, -2.84052238e-03,  1.34509411e-03],\n",
       "       [ 1.31461902e-02, -4.90113064e-03, -2.53643125e-03],\n",
       "       [ 5.00281319e-03,  6.08919200e-03,  1.19993956e-02],\n",
       "       [ 1.47465506e-04, -6.30004651e-05, -1.16843855e-03]])"
      ]
     },
     "execution_count": 3,
     "metadata": {},
     "output_type": "execute_result"
    }
   ],
   "source": [
    "from sampling_normalization.distortions import radial_distortion\n",
    "b = radial_distortion(a)\n",
    "\n",
    "b\n"
   ]
  },
  {
   "cell_type": "code",
   "execution_count": 17,
   "metadata": {},
   "outputs": [
    {
     "data": {
      "text/plain": [
       "array([[ 2.37070436e-01, -6.46063726e-01,  7.25533783e-01],\n",
       "       [-9.12694955e+00, -3.23631958e+00,  2.49500048e+00],\n",
       "       [-1.22712728e+01,  7.05522376e+01, -6.97982638e+01],\n",
       "       [ 1.90889353e+02, -1.83558159e+02, -9.64296457e+02]])"
      ]
     },
     "execution_count": 17,
     "metadata": {},
     "output_type": "execute_result"
    }
   ],
   "source": [
    "d = np.array([1,10,100,1000])\n",
    "np.diag(d)@b"
   ]
  },
  {
   "cell_type": "code",
   "execution_count": 14,
   "metadata": {},
   "outputs": [],
   "source": [
    "\n",
    "def inv_value(f, target_value: float, min_guess: float, max_guess: float, num_guesses: int = 50):\n",
    "\tx_guess = (max_guess + min_guess)/2\n",
    "\tfor _ in range(num_guesses):\n",
    "\t\tguess_value = f(x_guess)\n",
    "\t\tif guess_value < target_value:\n",
    "\t\t\tmin_guess = x_guess\n",
    "\t\t\tx_guess = (max_guess + x_guess)/2\n",
    "\t\telse:\n",
    "\t\t\tmax_guess = x_guess\n",
    "\t\t\tx_guess = (min_guess + x_guess)/2\n",
    "\n",
    "\treturn x_guess\n",
    "\n"
   ]
  },
  {
   "cell_type": "code",
   "execution_count": 3,
   "outputs": [],
   "source": [
    "import numpy as np"
   ],
   "metadata": {
    "collapsed": false
   }
  },
  {
   "cell_type": "code",
   "execution_count": 15,
   "outputs": [
    {
     "name": "stdout",
     "output_type": "stream",
     "text": [
      "Guessed value: 0.6931471805599432\n",
      "Actual value: 0.6931471805599453\n",
      "Diff value: -2.1094237467877974e-15\n"
     ]
    }
   ],
   "source": [
    "ln2 = inv_value(np.exp, target_value=2, min_guess=0, max_guess=5)\n",
    "ln2_ = np.log(2)\n",
    "print(\"Guessed value:\", ln2)\n",
    "print(\"Actual value:\", ln2_)\n",
    "print(\"Diff value:\", ln2-ln2_)"
   ],
   "metadata": {
    "collapsed": false
   }
  },
  {
   "cell_type": "code",
   "execution_count": 4,
   "outputs": [],
   "source": [
    "import os"
   ],
   "metadata": {
    "collapsed": false
   }
  },
  {
   "cell_type": "code",
   "execution_count": 5,
   "outputs": [],
   "source": [
    "os.chdir('../')"
   ],
   "metadata": {
    "collapsed": false
   }
  },
  {
   "cell_type": "code",
   "execution_count": 6,
   "outputs": [],
   "source": [
    "import sampling_normalization.geometric_objects as geos"
   ],
   "metadata": {
    "collapsed": false
   }
  },
  {
   "cell_type": "code",
   "execution_count": 2,
   "outputs": [
    {
     "ename": "TypeError",
     "evalue": "Spiral.__init__() takes from 1 to 3 positional arguments but 4 were given",
     "output_type": "error",
     "traceback": [
      "\u001B[1;31m---------------------------------------------------------------------------\u001B[0m",
      "\u001B[1;31mTypeError\u001B[0m                                 Traceback (most recent call last)",
      "Input \u001B[1;32mIn [2]\u001B[0m, in \u001B[0;36m<cell line: 1>\u001B[1;34m()\u001B[0m\n\u001B[1;32m----> 1\u001B[0m s \u001B[38;5;241m=\u001B[39m \u001B[43mgeos\u001B[49m\u001B[38;5;241;43m.\u001B[39;49m\u001B[43mSpiral\u001B[49m\u001B[43m(\u001B[49m\u001B[38;5;241;43m2\u001B[39;49m\u001B[43m,\u001B[49m\u001B[38;5;241;43m3\u001B[39;49m\u001B[43m,\u001B[49m\u001B[38;5;241;43m4\u001B[39;49m\u001B[43m)\u001B[49m\n",
      "\u001B[1;31mTypeError\u001B[0m: Spiral.__init__() takes from 1 to 3 positional arguments but 4 were given"
     ]
    }
   ],
   "source": [
    "s = geos.Spiral(2,3,4)"
   ],
   "metadata": {
    "collapsed": false
   }
  },
  {
   "cell_type": "code",
   "execution_count": null,
   "outputs": [],
   "source": [],
   "metadata": {
    "collapsed": false
   }
  }
 ],
 "metadata": {
  "kernelspec": {
   "display_name": "Python 3.9.7 ('jenv')",
   "language": "python",
   "name": "python3"
  },
  "language_info": {
   "codemirror_mode": {
    "name": "ipython",
    "version": 3
   },
   "file_extension": ".py",
   "mimetype": "text/x-python",
   "name": "python",
   "nbconvert_exporter": "python",
   "pygments_lexer": "ipython3",
   "version": "3.9.7"
  },
  "orig_nbformat": 4,
  "vscode": {
   "interpreter": {
    "hash": "a6df720517243887f81f829574e18eed6582ce87175ffd531d5fa99bc43729cc"
   }
  }
 },
 "nbformat": 4,
 "nbformat_minor": 2
}
