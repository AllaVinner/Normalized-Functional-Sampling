{
 "cells": [
  {
   "cell_type": "code",
   "execution_count": 1,
   "metadata": {},
   "outputs": [],
   "source": [
    "import numpy as np\n",
    "import sampling_normalization as sampnorm\n",
    "from sampling_normalization import geometric_objects as go\n",
    "import plotly.express as px"
   ]
  },
  {
   "cell_type": "code",
   "execution_count": 2,
   "metadata": {},
   "outputs": [],
   "source": [
    " a = np.random.normal(size = (4,3))"
   ]
  },
  {
   "cell_type": "code",
   "execution_count": 3,
   "metadata": {},
   "outputs": [
    {
     "name": "stdout",
     "output_type": "stream",
     "text": [
      "Distortions:  [1.00373388 1.00837034 0.98844341 0.99661006]\n"
     ]
    },
    {
     "data": {
      "text/plain": [
       "array([[ 8.64114269e-03, -2.84052238e-03,  1.34509411e-03],\n",
       "       [ 1.31461902e-02, -4.90113064e-03, -2.53643125e-03],\n",
       "       [ 5.00281319e-03,  6.08919200e-03,  1.19993956e-02],\n",
       "       [ 1.47465506e-04, -6.30004651e-05, -1.16843855e-03]])"
      ]
     },
     "execution_count": 3,
     "metadata": {},
     "output_type": "execute_result"
    }
   ],
   "source": [
    "from sampling_normalization.distortions import radial_distortion\n",
    "b = radial_distortion(a)\n",
    "\n",
    "b\n"
   ]
  },
  {
   "cell_type": "code",
   "execution_count": 17,
   "metadata": {},
   "outputs": [
    {
     "data": {
      "text/plain": [
       "array([[ 2.37070436e-01, -6.46063726e-01,  7.25533783e-01],\n",
       "       [-9.12694955e+00, -3.23631958e+00,  2.49500048e+00],\n",
       "       [-1.22712728e+01,  7.05522376e+01, -6.97982638e+01],\n",
       "       [ 1.90889353e+02, -1.83558159e+02, -9.64296457e+02]])"
      ]
     },
     "execution_count": 17,
     "metadata": {},
     "output_type": "execute_result"
    }
   ],
   "source": [
    "d = np.array([1,10,100,1000])\n",
    "np.diag(d)@b"
   ]
  },
  {
   "cell_type": "code",
   "execution_count": null,
   "metadata": {},
   "outputs": [],
   "source": []
  }
 ],
 "metadata": {
  "kernelspec": {
   "display_name": "Python 3.9.7 ('jenv')",
   "language": "python",
   "name": "python3"
  },
  "language_info": {
   "codemirror_mode": {
    "name": "ipython",
    "version": 3
   },
   "file_extension": ".py",
   "mimetype": "text/x-python",
   "name": "python",
   "nbconvert_exporter": "python",
   "pygments_lexer": "ipython3",
   "version": "3.9.7"
  },
  "orig_nbformat": 4,
  "vscode": {
   "interpreter": {
    "hash": "a6df720517243887f81f829574e18eed6582ce87175ffd531d5fa99bc43729cc"
   }
  }
 },
 "nbformat": 4,
 "nbformat_minor": 2
}
