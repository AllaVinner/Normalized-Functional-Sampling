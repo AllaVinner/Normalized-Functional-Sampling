{
 "cells": [
  {
   "cell_type": "code",
   "execution_count": 1,
   "metadata": {
    "collapsed": true
   },
   "outputs": [],
   "source": [
    "import numpy as np\n",
    "import notebooks.scripts.geometrical_objects as geos\n",
    "import plotly.express as px\n",
    "import pandas as pd\n"
   ]
  },
  {
   "cell_type": "code",
   "execution_count": 2,
   "metadata": {
    "collapsed": false
   },
   "outputs": [],
   "source": [
    "disk = geos.Disk(5)"
   ]
  },
  {
   "cell_type": "code",
   "execution_count": 3,
   "metadata": {
    "collapsed": false
   },
   "outputs": [],
   "source": [
    "def radius_normalizer(disk):\n",
    "\tdef _normalizer(r, alpha):\n",
    "\t\treturn np.stack([ np.sqrt(disk.radius*r), alpha])\n",
    "\treturn _normalizer\n",
    "\n",
    "def angle_normalizer(disk):\n",
    "    def _normalizer(r, alpha):\n",
    "        rev_r = disk.radius - r\n",
    "        rev_alpha = 2*np.pi - alpha\n",
    "        is_oob = alpha*disk.radius/r > 2*np.pi\n",
    "        r2 = r.copy()\n",
    "        r2[is_oob] = rev_r[is_oob]\n",
    "        alpha2 = alpha.copy()\n",
    "        alpha2[is_oob] = rev_alpha[is_oob]\n",
    "        alpha2 = alpha2*disk.radius*1/r2\n",
    "        return np.stack([r2, alpha2])\n",
    "    return _normalizer"
   ]
  },
  {
   "cell_type": "code",
   "execution_count": 10,
   "metadata": {
    "collapsed": false
   },
   "outputs": [],
   "source": [
    "num_samples = 10_000\n",
    "r = disk.radius*np.random.rand(num_samples)\n",
    "alpha = 2*np.pi*np.random.rand(num_samples)"
   ]
  },
  {
   "cell_type": "code",
   "execution_count": 11,
   "metadata": {
    "collapsed": false
   },
   "outputs": [],
   "source": [
    "r_radius_norm, alpha_radius_norm = radius_normalizer(disk)(r, alpha).tolist()\n",
    "r_angle_norm, alpha_angle_norm = angle_normalizer(disk)(r, alpha).tolist()"
   ]
  },
  {
   "cell_type": "code",
   "execution_count": 15,
   "metadata": {
    "collapsed": false
   },
   "outputs": [],
   "source": [
    "x1, x2 = disk(r, alpha).T.tolist()\n",
    "samples = pd.DataFrame({\n",
    "\t'radius': r,\n",
    "\t'angle': alpha,\n",
    "\t'x': x1,\n",
    "    'y': x2\n",
    "})\n",
    "\n",
    "x1, x2 = disk(r_radius_norm, alpha_radius_norm).T.tolist()\n",
    "samples_radius_norm = pd.DataFrame({\n",
    "    'radius': r_radius_norm,\n",
    "    'angle': alpha_radius_norm,\n",
    "    'x': x1,\n",
    "    'y': x2\n",
    "})\n",
    "\n",
    "x1, x2 = disk(r_angle_norm, alpha_angle_norm).T.tolist()\n",
    "samples_angle_norm = pd.DataFrame({\n",
    "    'radius': r_angle_norm,\n",
    "    'angle': alpha_angle_norm,\n",
    "    'x': x1,\n",
    "    'y': x2\n",
    "})\n",
    "\n",
    "samples['Type'] = 'Original'\n",
    "samples_radius_norm['Type'] = 'Radius Normalized'\n",
    "samples_angle_norm['Type'] = 'Angular Normalized'\n",
    "\n",
    "df = pd.concat([samples, samples_radius_norm, samples_angle_norm])"
   ]
  },
  {
   "cell_type": "code",
   "execution_count": 19,
   "metadata": {
    "collapsed": false
   },
   "outputs": [],
   "source": [
    "fig = px.scatter(df, x='x', y='y', color ='Type', width = 1300, height=500, color_discrete_sequence=['#CC7777', '#77CC77', '#7777CC'], opacity = 0.3, facet_col='Type')\n",
    "fig.update_layout(showlegend = False)\n",
    "fig.write_image(\"disk_sampling.png\")\n"
   ]
  },
  {
   "cell_type": "code",
   "execution_count": 18,
   "metadata": {
    "collapsed": false
   },
   "outputs": [],
   "source": [
    "fig = px.scatter(df, x='radius', y='angle', color ='Type', width = 1300, height=500, color_discrete_sequence=['#CC7777', '#77CC77', '#7777CC'], opacity = 0.3, facet_col='Type')\n",
    "fig.update_layout(showlegend = False)\n",
    "fig.write_image(\"disk_domain_sampling.png\")\n"
   ]
  },
  {
   "cell_type": "code",
   "execution_count": null,
   "metadata": {
    "collapsed": false
   },
   "outputs": [],
   "source": []
  },
  {
   "cell_type": "code",
   "execution_count": null,
   "metadata": {
    "collapsed": false
   },
   "outputs": [],
   "source": []
  }
 ],
 "metadata": {
  "kernelspec": {
   "display_name": "normalize-sampling",
   "language": "python",
   "name": "normalize-sampling"
  },
  "language_info": {
   "codemirror_mode": {
    "name": "ipython",
    "version": 2
   },
   "file_extension": ".py",
   "mimetype": "text/x-python",
   "name": "python",
   "nbconvert_exporter": "python",
   "pygments_lexer": "ipython2",
   "version": "2.7.6"
  }
 },
 "nbformat": 4,
 "nbformat_minor": 0
}
